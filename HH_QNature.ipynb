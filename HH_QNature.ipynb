{
  "nbformat": 4,
  "nbformat_minor": 0,
  "metadata": {
    "colab": {
      "name": "HH-QNature",
      "provenance": [],
      "authorship_tag": "ABX9TyMOi78lzwkZKBeI+6LJOvSd",
      "include_colab_link": true
    },
    "kernelspec": {
      "display_name": "Python 3",
      "name": "python3"
    },
    "language_info": {
      "name": "python"
    }
  },
  "cells": [
    {
      "cell_type": "markdown",
      "metadata": {
        "id": "view-in-github",
        "colab_type": "text"
      },
      "source": [
        "<a href=\"https://colab.research.google.com/github/JoshDumo/QuantumChem/blob/main/HH_QNature.ipynb\" target=\"_parent\"><img src=\"https://colab.research.google.com/assets/colab-badge.svg\" alt=\"Open In Colab\"/></a>"
      ]
    },
    {
      "cell_type": "code",
      "metadata": {
        "colab": {
          "base_uri": "https://localhost:8080/"
        },
        "id": "OCTgdbFtFdR6",
        "outputId": "d4a9b134-21c3-41eb-8cfd-81bb11288758"
      },
      "source": [
        "!pip install qiskit\n",
        "!pip install qiskit_nature"
      ],
      "execution_count": 7,
      "outputs": [
        {
          "output_type": "stream",
          "text": [
            "Requirement already satisfied: qiskit in /usr/local/lib/python3.7/dist-packages (0.25.1)\n",
            "Requirement already satisfied: qiskit-ignis==0.6.0 in /usr/local/lib/python3.7/dist-packages (from qiskit) (0.6.0)\n",
            "Requirement already satisfied: qiskit-ibmq-provider==0.12.2 in /usr/local/lib/python3.7/dist-packages (from qiskit) (0.12.2)\n",
            "Requirement already satisfied: qiskit-aer==0.8.1 in /usr/local/lib/python3.7/dist-packages (from qiskit) (0.8.1)\n",
            "Requirement already satisfied: qiskit-aqua==0.9.1 in /usr/local/lib/python3.7/dist-packages (from qiskit) (0.9.1)\n",
            "Requirement already satisfied: qiskit-terra==0.17.1 in /usr/local/lib/python3.7/dist-packages (from qiskit) (0.17.1)\n",
            "Requirement already satisfied: numpy>=1.13 in /usr/local/lib/python3.7/dist-packages (from qiskit-ignis==0.6.0->qiskit) (1.19.5)\n",
            "Requirement already satisfied: setuptools>=40.1.0 in /usr/local/lib/python3.7/dist-packages (from qiskit-ignis==0.6.0->qiskit) (54.2.0)\n",
            "Requirement already satisfied: scipy!=0.19.1,>=0.19 in /usr/local/lib/python3.7/dist-packages (from qiskit-ignis==0.6.0->qiskit) (1.4.1)\n",
            "Requirement already satisfied: retworkx>=0.8.0 in /usr/local/lib/python3.7/dist-packages (from qiskit-ignis==0.6.0->qiskit) (0.8.0)\n",
            "Requirement already satisfied: requests-ntlm>=1.1.0 in /usr/local/lib/python3.7/dist-packages (from qiskit-ibmq-provider==0.12.2->qiskit) (1.1.0)\n",
            "Requirement already satisfied: websockets>=8 in /usr/local/lib/python3.7/dist-packages (from qiskit-ibmq-provider==0.12.2->qiskit) (8.1)\n",
            "Requirement already satisfied: urllib3>=1.21.1 in /usr/local/lib/python3.7/dist-packages (from qiskit-ibmq-provider==0.12.2->qiskit) (1.24.3)\n",
            "Requirement already satisfied: python-dateutil>=2.8.0 in /usr/local/lib/python3.7/dist-packages (from qiskit-ibmq-provider==0.12.2->qiskit) (2.8.1)\n",
            "Requirement already satisfied: nest-asyncio!=1.1.0,>=1.0.0 in /usr/local/lib/python3.7/dist-packages (from qiskit-ibmq-provider==0.12.2->qiskit) (1.5.1)\n",
            "Requirement already satisfied: requests>=2.19 in /usr/local/lib/python3.7/dist-packages (from qiskit-ibmq-provider==0.12.2->qiskit) (2.23.0)\n",
            "Requirement already satisfied: pybind11>=2.6 in /usr/local/lib/python3.7/dist-packages (from qiskit-aer==0.8.1->qiskit) (2.6.2)\n",
            "Requirement already satisfied: docplex<=2.20.204; sys_platform != \"darwin\" in /usr/local/lib/python3.7/dist-packages (from qiskit-aqua==0.9.1->qiskit) (2.20.204)\n",
            "Requirement already satisfied: scikit-learn<=0.24.1,>=0.20.0 in /usr/local/lib/python3.7/dist-packages (from qiskit-aqua==0.9.1->qiskit) (0.22.2.post1)\n",
            "Requirement already satisfied: sympy<=1.7.1,>=1.3 in /usr/local/lib/python3.7/dist-packages (from qiskit-aqua==0.9.1->qiskit) (1.7.1)\n",
            "Requirement already satisfied: quandl<=3.6.0 in /usr/local/lib/python3.7/dist-packages (from qiskit-aqua==0.9.1->qiskit) (3.6.0)\n",
            "Requirement already satisfied: psutil<=5.8.0,>=5 in /usr/local/lib/python3.7/dist-packages (from qiskit-aqua==0.9.1->qiskit) (5.4.8)\n",
            "Requirement already satisfied: fastdtw<=0.3.4 in /usr/local/lib/python3.7/dist-packages (from qiskit-aqua==0.9.1->qiskit) (0.3.4)\n",
            "Requirement already satisfied: pandas<=1.2.3 in /usr/local/lib/python3.7/dist-packages (from qiskit-aqua==0.9.1->qiskit) (1.1.5)\n",
            "Requirement already satisfied: dlx<=1.0.4 in /usr/local/lib/python3.7/dist-packages (from qiskit-aqua==0.9.1->qiskit) (1.0.4)\n",
            "Requirement already satisfied: yfinance<=0.1.55 in /usr/local/lib/python3.7/dist-packages (from qiskit-aqua==0.9.1->qiskit) (0.1.55)\n",
            "Requirement already satisfied: h5py<=3.1.0 in /usr/local/lib/python3.7/dist-packages (from qiskit-aqua==0.9.1->qiskit) (2.10.0)\n",
            "Requirement already satisfied: fastjsonschema>=2.10 in /usr/local/lib/python3.7/dist-packages (from qiskit-terra==0.17.1->qiskit) (2.15.0)\n",
            "Requirement already satisfied: python-constraint>=1.4 in /usr/local/lib/python3.7/dist-packages (from qiskit-terra==0.17.1->qiskit) (1.4.0)\n",
            "Requirement already satisfied: dill>=0.3 in /usr/local/lib/python3.7/dist-packages (from qiskit-terra==0.17.1->qiskit) (0.3.3)\n",
            "Requirement already satisfied: jsonschema>=2.6 in /usr/local/lib/python3.7/dist-packages (from qiskit-terra==0.17.1->qiskit) (2.6.0)\n",
            "Requirement already satisfied: ply>=3.10 in /usr/local/lib/python3.7/dist-packages (from qiskit-terra==0.17.1->qiskit) (3.11)\n",
            "Requirement already satisfied: ntlm-auth>=1.0.2 in /usr/local/lib/python3.7/dist-packages (from requests-ntlm>=1.1.0->qiskit-ibmq-provider==0.12.2->qiskit) (1.5.0)\n",
            "Requirement already satisfied: cryptography>=1.3 in /usr/local/lib/python3.7/dist-packages (from requests-ntlm>=1.1.0->qiskit-ibmq-provider==0.12.2->qiskit) (3.4.7)\n",
            "Requirement already satisfied: six>=1.5 in /usr/local/lib/python3.7/dist-packages (from python-dateutil>=2.8.0->qiskit-ibmq-provider==0.12.2->qiskit) (1.15.0)\n",
            "Requirement already satisfied: chardet<4,>=3.0.2 in /usr/local/lib/python3.7/dist-packages (from requests>=2.19->qiskit-ibmq-provider==0.12.2->qiskit) (3.0.4)\n",
            "Requirement already satisfied: certifi>=2017.4.17 in /usr/local/lib/python3.7/dist-packages (from requests>=2.19->qiskit-ibmq-provider==0.12.2->qiskit) (2020.12.5)\n",
            "Requirement already satisfied: idna<3,>=2.5 in /usr/local/lib/python3.7/dist-packages (from requests>=2.19->qiskit-ibmq-provider==0.12.2->qiskit) (2.10)\n",
            "Requirement already satisfied: joblib>=0.11 in /usr/local/lib/python3.7/dist-packages (from scikit-learn<=0.24.1,>=0.20.0->qiskit-aqua==0.9.1->qiskit) (1.0.1)\n",
            "Requirement already satisfied: mpmath>=0.19 in /usr/local/lib/python3.7/dist-packages (from sympy<=1.7.1,>=1.3->qiskit-aqua==0.9.1->qiskit) (1.2.1)\n",
            "Requirement already satisfied: more-itertools in /usr/local/lib/python3.7/dist-packages (from quandl<=3.6.0->qiskit-aqua==0.9.1->qiskit) (8.7.0)\n",
            "Requirement already satisfied: inflection>=0.3.1 in /usr/local/lib/python3.7/dist-packages (from quandl<=3.6.0->qiskit-aqua==0.9.1->qiskit) (0.5.1)\n",
            "Requirement already satisfied: pytz>=2017.2 in /usr/local/lib/python3.7/dist-packages (from pandas<=1.2.3->qiskit-aqua==0.9.1->qiskit) (2018.9)\n",
            "Requirement already satisfied: lxml>=4.5.1 in /usr/local/lib/python3.7/dist-packages (from yfinance<=0.1.55->qiskit-aqua==0.9.1->qiskit) (4.6.3)\n",
            "Requirement already satisfied: multitasking>=0.0.7 in /usr/local/lib/python3.7/dist-packages (from yfinance<=0.1.55->qiskit-aqua==0.9.1->qiskit) (0.0.9)\n",
            "Requirement already satisfied: cffi>=1.12 in /usr/local/lib/python3.7/dist-packages (from cryptography>=1.3->requests-ntlm>=1.1.0->qiskit-ibmq-provider==0.12.2->qiskit) (1.14.5)\n",
            "Requirement already satisfied: pycparser in /usr/local/lib/python3.7/dist-packages (from cffi>=1.12->cryptography>=1.3->requests-ntlm>=1.1.0->qiskit-ibmq-provider==0.12.2->qiskit) (2.20)\n",
            "Requirement already satisfied: qiskit_nature in /usr/local/lib/python3.7/dist-packages (0.1.1)\n",
            "Requirement already satisfied: numpy>=1.17 in /usr/local/lib/python3.7/dist-packages (from qiskit_nature) (1.19.5)\n",
            "Requirement already satisfied: setuptools>=40.1.0 in /usr/local/lib/python3.7/dist-packages (from qiskit_nature) (54.2.0)\n",
            "Requirement already satisfied: psutil>=5 in /usr/local/lib/python3.7/dist-packages (from qiskit_nature) (5.4.8)\n",
            "Requirement already satisfied: scikit-learn>=0.20.0 in /usr/local/lib/python3.7/dist-packages (from qiskit_nature) (0.22.2.post1)\n",
            "Requirement already satisfied: h5py in /usr/local/lib/python3.7/dist-packages (from qiskit_nature) (2.10.0)\n",
            "Requirement already satisfied: scipy>=1.4 in /usr/local/lib/python3.7/dist-packages (from qiskit_nature) (1.4.1)\n",
            "Requirement already satisfied: qiskit-terra>=0.17.0 in /usr/local/lib/python3.7/dist-packages (from qiskit_nature) (0.17.1)\n",
            "Requirement already satisfied: joblib>=0.11 in /usr/local/lib/python3.7/dist-packages (from scikit-learn>=0.20.0->qiskit_nature) (1.0.1)\n",
            "Requirement already satisfied: six in /usr/local/lib/python3.7/dist-packages (from h5py->qiskit_nature) (1.15.0)\n",
            "Requirement already satisfied: python-constraint>=1.4 in /usr/local/lib/python3.7/dist-packages (from qiskit-terra>=0.17.0->qiskit_nature) (1.4.0)\n",
            "Requirement already satisfied: python-dateutil>=2.8.0 in /usr/local/lib/python3.7/dist-packages (from qiskit-terra>=0.17.0->qiskit_nature) (2.8.1)\n",
            "Requirement already satisfied: sympy>=1.3 in /usr/local/lib/python3.7/dist-packages (from qiskit-terra>=0.17.0->qiskit_nature) (1.7.1)\n",
            "Requirement already satisfied: fastjsonschema>=2.10 in /usr/local/lib/python3.7/dist-packages (from qiskit-terra>=0.17.0->qiskit_nature) (2.15.0)\n",
            "Requirement already satisfied: ply>=3.10 in /usr/local/lib/python3.7/dist-packages (from qiskit-terra>=0.17.0->qiskit_nature) (3.11)\n",
            "Requirement already satisfied: retworkx>=0.8.0 in /usr/local/lib/python3.7/dist-packages (from qiskit-terra>=0.17.0->qiskit_nature) (0.8.0)\n",
            "Requirement already satisfied: dill>=0.3 in /usr/local/lib/python3.7/dist-packages (from qiskit-terra>=0.17.0->qiskit_nature) (0.3.3)\n",
            "Requirement already satisfied: jsonschema>=2.6 in /usr/local/lib/python3.7/dist-packages (from qiskit-terra>=0.17.0->qiskit_nature) (2.6.0)\n",
            "Requirement already satisfied: mpmath>=0.19 in /usr/local/lib/python3.7/dist-packages (from sympy>=1.3->qiskit-terra>=0.17.0->qiskit_nature) (1.2.1)\n"
          ],
          "name": "stdout"
        }
      ]
    },
    {
      "cell_type": "code",
      "metadata": {
        "colab": {
          "base_uri": "https://localhost:8080/"
        },
        "id": "yftISe_TF0eV",
        "outputId": "425e6a6d-b560-4254-9caa-72f0e77dacc1"
      },
      "source": [
        "!pip install pyscf"
      ],
      "execution_count": 8,
      "outputs": [
        {
          "output_type": "stream",
          "text": [
            "Requirement already satisfied: pyscf in /usr/local/lib/python3.7/dist-packages (1.7.6.post1)\n",
            "Requirement already satisfied: h5py>2.2 in /usr/local/lib/python3.7/dist-packages (from pyscf) (2.10.0)\n",
            "Requirement already satisfied: numpy!=1.16,!=1.17,>1.8 in /usr/local/lib/python3.7/dist-packages (from pyscf) (1.19.5)\n",
            "Requirement already satisfied: scipy!=1.5.0,!=1.5.1 in /usr/local/lib/python3.7/dist-packages (from pyscf) (1.4.1)\n",
            "Requirement already satisfied: six in /usr/local/lib/python3.7/dist-packages (from h5py>2.2->pyscf) (1.15.0)\n"
          ],
          "name": "stdout"
        }
      ]
    },
    {
      "cell_type": "code",
      "metadata": {
        "id": "MTFWHB-ZF4jV"
      },
      "source": [
        "import numpy as np\n",
        "import pylab\n",
        "import copy\n",
        "from qiskit_nature.drivers import PySCFDriver, UnitsType, Molecule\n",
        "from qiskit_nature.problems.second_quantization.electronic import ElectronicStructureProblem\n",
        "from qiskit.algorithms.optimizers import L_BFGS_B\n",
        "from qiskit_nature.mappers.second_quantization import ParityMapper\n",
        "from qiskit_nature.converters.second_quantization import QubitConverter\n",
        "from qiskit_nature.circuit.library import HartreeFock\n",
        "from qiskit.circuit.library import TwoLocal\n",
        "from qiskit import Aer\n",
        "from qiskit.algorithms import VQE, NumPyMinimumEigensolver\n"
      ],
      "execution_count": 9,
      "outputs": []
    },
    {
      "cell_type": "code",
      "metadata": {
        "id": "En3z4nqFIN82"
      },
      "source": [
        "#molecule = 'H .0 .0 -{0}; Li .0 .0 {0}'\n",
        "#molecule = Molecule(geometry=[['H', [0., 0., 0.]],\n",
        "#                              ['H', [0., 0., 0.735]]],\n",
        "#                     charge=0, multiplicity=1)\n",
        "\n",
        "distances = np.arange(0.2, 1.5, 0.05)\n",
        "vqe_energies = []\n",
        "hf_energies = []\n",
        "exact_energies = []"
      ],
      "execution_count": 24,
      "outputs": []
    },
    {
      "cell_type": "code",
      "metadata": {
        "colab": {
          "base_uri": "https://localhost:8080/"
        },
        "id": "iRN0YXA3JDLV",
        "outputId": "52502134-2207-4357-c46a-028b76c1fa25"
      },
      "source": [
        "for i,d in enumerate(distances):\n",
        "  print('step: ', i)\n",
        "  molecule = Molecule(geometry=[['H', [0., 0., -d/2]],\n",
        "                              ['H', [0., 0., d/2]]],\n",
        "                     charge=0, multiplicity=1)\n",
        "  driver = PySCFDriver(molecule = molecule, unit=UnitsType.ANGSTROM, basis='sto3g')\n",
        "  problem = ElectronicStructureProblem(driver)\n",
        "\n",
        "  second_q_ops = problem.second_q_ops()\n",
        "  main_op = second_q_ops[0]\n",
        "\n",
        "  num_particles = (problem.molecule_data_transformed.num_alpha,\n",
        "                 problem.molecule_data_transformed.num_beta)\n",
        "  num_spin_orbitals = 2 * problem.molecule_data.num_molecular_orbitals\n",
        "\n",
        "  optimizer = L_BFGS_B()\n",
        "\n",
        "  mapper = ParityMapper()\n",
        "  converter = QubitConverter(mapper=mapper, two_qubit_reduction=True)\n",
        "  \n",
        "  # map to qubit operators\n",
        "  qubit_op = converter.convert(main_op, num_particles=num_particles)\n",
        "\n",
        "  init_state = HartreeFock(num_spin_orbitals, num_particles, converter)\n",
        "\n",
        "  ansatz = TwoLocal(num_spin_orbitals, ['ry', 'rz'], 'cz')\n",
        "\n",
        "    #ansatz.draw()\n",
        "  # add the initial state\n",
        "  ansatz.compose(init_state, front=True)\n",
        "\n",
        "  backend = Aer.get_backend('statevector_simulator')\n",
        "\n",
        "  algorithm = VQE(ansatz,\n",
        "                optimizer=optimizer,\n",
        "                quantum_instance=backend)\n",
        "\n",
        "  result = algorithm.compute_minimum_eigenvalue(qubit_op)\n",
        "  #vqe_energies.append(result.eigenvalue.real)\n",
        "  #print(result.eigenvalue.real)\n",
        "\n",
        "  electronic_structure_result = problem.interpret(result)\n",
        "  #print(electronic_structure_result.computed_energies)\n",
        "\n",
        "  #exact results\n",
        "  exact_algorithm = NumPyMinimumEigensolver()\n",
        "  exact_result = exact_algorithm.compute_minimum_eigenvalue(qubit_op)\n",
        "  exact_electronic_structure_result = problem.interpret(exact_result)\n",
        "  print(exact_electronic_structure_result.total_energies[0])\n",
        "\n",
        "\n",
        "  vqe_energies.append(electronic_structure_result.total_energies[0])\n",
        "  hf_energies.append(electronic_structure_result.hartree_fock_energy)\n",
        "  exact_energies.append(exact_electronic_structure_result.total_energies[0])\n"
      ],
      "execution_count": 25,
      "outputs": [
        {
          "output_type": "stream",
          "text": [
            "step:  0\n",
            "0.15748213479836526\n",
            "step:  1\n",
            "-0.3122699027007907\n",
            "step:  2\n",
            "-0.6018037107656853\n",
            "step:  3\n",
            "-0.7892693924044141\n",
            "step:  4\n",
            "-0.914149704627081\n",
            "step:  5\n",
            "-0.9984155960160177\n",
            "step:  6\n",
            "-1.0551597944706246\n",
            "step:  7\n",
            "-1.0926299067451037\n",
            "step:  8\n",
            "-1.1162860068695413\n",
            "step:  9\n",
            "-1.1299047843229135\n",
            "step:  10\n",
            "-1.1361894540659239\n",
            "step:  11\n",
            "-1.1371170673457311\n",
            "step:  12\n",
            "-1.1341476666770958\n",
            "step:  13\n",
            "-1.1283618784581106\n",
            "step:  14\n",
            "-1.1205602812999875\n",
            "step:  15\n",
            "-1.1113394177361504\n",
            "step:  16\n",
            "-1.1011503302326173\n",
            "step:  17\n",
            "-1.0903421765127623\n",
            "step:  18\n",
            "-1.0791929449690736\n",
            "step:  19\n",
            "-1.0679296589128593\n",
            "step:  20\n",
            "-1.0567407463052583\n",
            "step:  21\n",
            "-1.0457831445498003\n",
            "step:  22\n",
            "-1.0351862664342548\n",
            "step:  23\n",
            "-1.0250543624687884\n",
            "step:  24\n",
            "-1.0154682492882454\n",
            "step:  25\n",
            "-1.0064869318291236\n"
          ],
          "name": "stdout"
        }
      ]
    },
    {
      "cell_type": "code",
      "metadata": {
        "colab": {
          "base_uri": "https://localhost:8080/",
          "height": 312
        },
        "id": "ROA6vYA2XyEB",
        "outputId": "614e5380-ea34-464f-a6fd-fd13b4f34378"
      },
      "source": [
        "pylab.plot(distances,hf_energies,label='Hartree Fock')\n",
        "pylab.plot(distances,vqe_energies,'o',label='VQE')\n",
        "pylab.plot(distances,exact_energies,'x', label='Exact energies')\n",
        "\n",
        "pylab.xlabel('Interatomic distance, [Angstrom]')\n",
        "pylab.ylabel('Energy, [Hartree]')\n",
        "pylab.title('H2 Ground state energy')\n",
        "pylab.legend(loc='upper right')"
      ],
      "execution_count": 27,
      "outputs": [
        {
          "output_type": "execute_result",
          "data": {
            "text/plain": [
              "<matplotlib.legend.Legend at 0x7fcd1afcbdd0>"
            ]
          },
          "metadata": {
            "tags": []
          },
          "execution_count": 27
        },
        {
          "output_type": "display_data",
          "data": {
            "image/png": "[encoded data removed]",
            "text/plain": [
              "<Figure size 432x288 with 1 Axes>"
            ]
          },
          "metadata": {
            "tags": [],
            "needs_background": "light"
          }
        }
      ]
    }
  ]
}