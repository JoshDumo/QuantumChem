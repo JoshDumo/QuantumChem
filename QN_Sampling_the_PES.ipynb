{
  "nbformat": 4,
  "nbformat_minor": 0,
  "metadata": {
    "colab": {
      "name": "QN-Sampling the PES",
      "provenance": [],
      "authorship_tag": "ABX9TyMlNNFdZO8bdsM6i4vU8iE/",
      "include_colab_link": true
    },
    "kernelspec": {
      "name": "python3",
      "display_name": "Python 3"
    },
    "language_info": {
      "name": "python"
    }
  },
  "cells": [
    {
      "cell_type": "markdown",
      "metadata": {
        "id": "view-in-github",
        "colab_type": "text"
      },
      "source": [
        "<a href=\"https://colab.research.google.com/github/JoshDumo/QuantumChem/blob/main/QN_Sampling_the_PES.ipynb\" target=\"_parent\"><img src=\"https://colab.research.google.com/assets/colab-badge.svg\" alt=\"Open In Colab\"/></a>"
      ]
    },
    {
      "cell_type": "markdown",
      "metadata": {
        "id": "6NrbdH_rvQVu"
      },
      "source": [
        "# Sampling the Potential Energy Surface of HH\n",
        "\n",
        "This is from the Qiskit Nature Tutorial found here\n",
        "https://qiskit.org/documentation/nature/tutorials/05_Sampling_potential_energy_surfaces.html\n",
        "\n",
        "Here we will focus on trying this out in the Colab environment.\n",
        "\n",
        "## Installing Qiskit, Qiskit Nature and PySCF"
      ]
    },
    {
      "cell_type": "code",
      "metadata": {
        "colab": {
          "base_uri": "https://localhost:8080/"
        },
        "id": "WTptAWHwvINc",
        "outputId": "c329a50b-3263-4445-a873-87860f955629"
      },
      "source": [
        "!pip install qiskit \n",
        "!pip install qiskit_nature\n",
        "!pip install pyscf"
      ],
      "execution_count": 1,
      "outputs": [
        {
          "output_type": "stream",
          "text": [
            "Collecting qiskit\n",
            "  Downloading https://files.pythonhosted.org/packages/c2/85/17d92ff314cc029384dec6690e1d77790ff4f8972bf452b1c2bb58159c24/qiskit-0.25.2.tar.gz\n",
            "Collecting qiskit-terra==0.17.1\n",
            "\u001b[?25l  Downloading https://files.pythonhosted.org/packages/3b/4b/58f79398313098edc4b1d161bd93290e7b9af213545eab7073739a84d58b/qiskit_terra-0.17.1-cp37-cp37m-manylinux2010_x86_64.whl (6.0MB)\n",
            "\u001b[K     |████████████████████████████████| 6.0MB 2.7MB/s \n",
            "\u001b[?25hCollecting qiskit-aer==0.8.1\n",
            "\u001b[?25l  Downloading https://files.pythonhosted.org/packages/71/05/a1cb73a48a6e252fe0fdc18fbf08e7f8b7bfa714db512aa688790682b6c9/qiskit_aer-0.8.1-cp37-cp37m-manylinux2010_x86_64.whl (17.9MB)\n",
            "\u001b[K     |████████████████████████████████| 17.9MB 215kB/s \n",
            "\u001b[?25hCollecting qiskit-ibmq-provider==0.12.3\n",
            "\u001b[?25l  Downloading https://files.pythonhosted.org/packages/23/9a/644547a9ff9262201ee23e936470e7d9c133eb6c0b6d68f09bd0e29e07f6/qiskit_ibmq_provider-0.12.3-py3-none-any.whl (198kB)\n",
            "\u001b[K     |████████████████████████████████| 204kB 52.3MB/s \n",
            "\u001b[?25hCollecting qiskit-ignis==0.6.0\n",
            "\u001b[?25l  Downloading https://files.pythonhosted.org/packages/54/be/a13c828e457e09d979667a61bddbd8c7246aafa94e2501b6a9154429cbea/qiskit_ignis-0.6.0-py3-none-any.whl (207kB)\n",
            "\u001b[K     |████████████████████████████████| 215kB 41.0MB/s \n",
            "\u001b[?25hCollecting qiskit-aqua==0.9.1\n",
            "\u001b[?25l  Downloading https://files.pythonhosted.org/packages/88/79/392c57b978decbb24b902344b536af52c40a751aed0ebbaefa8bc2964cb5/qiskit_aqua-0.9.1-py3-none-any.whl (2.1MB)\n",
            "\u001b[K     |████████████████████████████████| 2.1MB 23.3MB/s \n",
            "\u001b[?25hRequirement already satisfied: dill>=0.3 in /usr/local/lib/python3.7/dist-packages (from qiskit-terra==0.17.1->qiskit) (0.3.3)\n",
            "Requirement already satisfied: scipy>=1.4 in /usr/local/lib/python3.7/dist-packages (from qiskit-terra==0.17.1->qiskit) (1.4.1)\n",
            "Requirement already satisfied: python-dateutil>=2.8.0 in /usr/local/lib/python3.7/dist-packages (from qiskit-terra==0.17.1->qiskit) (2.8.1)\n",
            "Collecting retworkx>=0.8.0\n",
            "\u001b[?25l  Downloading https://files.pythonhosted.org/packages/1b/92/f007f8b9d88dcd5b90e363967e5d54431a68c5fe06d83400732e3b438084/retworkx-0.8.0-cp37-cp37m-manylinux2010_x86_64.whl (1.0MB)\n",
            "\u001b[K     |████████████████████████████████| 1.0MB 48.4MB/s \n",
            "\u001b[?25hRequirement already satisfied: psutil>=5 in /usr/local/lib/python3.7/dist-packages (from qiskit-terra==0.17.1->qiskit) (5.4.8)\n",
            "Requirement already satisfied: jsonschema>=2.6 in /usr/local/lib/python3.7/dist-packages (from qiskit-terra==0.17.1->qiskit) (2.6.0)\n",
            "Collecting fastjsonschema>=2.10\n",
            "  Downloading https://files.pythonhosted.org/packages/89/1c/8be51fa42aadc1c1611a52b866e1a5a1032a504f24789cf140b4e6d7c940/fastjsonschema-2.15.0-py3-none-any.whl\n",
            "Requirement already satisfied: numpy>=1.17 in /usr/local/lib/python3.7/dist-packages (from qiskit-terra==0.17.1->qiskit) (1.19.5)\n",
            "Collecting ply>=3.10\n",
            "\u001b[?25l  Downloading https://files.pythonhosted.org/packages/a3/58/35da89ee790598a0700ea49b2a66594140f44dec458c07e8e3d4979137fc/ply-3.11-py2.py3-none-any.whl (49kB)\n",
            "\u001b[K     |████████████████████████████████| 51kB 4.8MB/s \n",
            "\u001b[?25hCollecting python-constraint>=1.4\n",
            "  Downloading https://files.pythonhosted.org/packages/37/8b/5f1bc2734ca611943e1d6733ee244238679f6410a10cd45ede55a61a8402/python-constraint-1.4.0.tar.bz2\n",
            "Requirement already satisfied: sympy>=1.3 in /usr/local/lib/python3.7/dist-packages (from qiskit-terra==0.17.1->qiskit) (1.7.1)\n",
            "Collecting pybind11>=2.6\n",
            "\u001b[?25l  Downloading https://files.pythonhosted.org/packages/8d/43/7339dbabbc2793718d59703aace4166f53c29ee1c202f6ff5bf8a26c4d91/pybind11-2.6.2-py2.py3-none-any.whl (191kB)\n",
            "\u001b[K     |████████████████████████████████| 194kB 42.9MB/s \n",
            "\u001b[?25hCollecting websockets>=8\n",
            "\u001b[?25l  Downloading https://files.pythonhosted.org/packages/5a/0b/3ebc752392a368af14dd24ee041683416ac6d2463eead94b311b11e41c82/websockets-8.1-cp37-cp37m-manylinux2010_x86_64.whl (79kB)\n",
            "\u001b[K     |████████████████████████████████| 81kB 8.4MB/s \n",
            "\u001b[?25hCollecting requests-ntlm>=1.1.0\n",
            "  Downloading https://files.pythonhosted.org/packages/03/4b/8b9a1afde8072c4d5710d9fa91433d504325821b038e00237dc8d6d833dc/requests_ntlm-1.1.0-py2.py3-none-any.whl\n",
            "Requirement already satisfied: urllib3>=1.21.1 in /usr/local/lib/python3.7/dist-packages (from qiskit-ibmq-provider==0.12.3->qiskit) (1.24.3)\n",
            "Requirement already satisfied: requests>=2.19 in /usr/local/lib/python3.7/dist-packages (from qiskit-ibmq-provider==0.12.3->qiskit) (2.23.0)\n",
            "Requirement already satisfied: nest-asyncio!=1.1.0,>=1.0.0 in /usr/local/lib/python3.7/dist-packages (from qiskit-ibmq-provider==0.12.3->qiskit) (1.5.1)\n",
            "Requirement already satisfied: setuptools>=40.1.0 in /usr/local/lib/python3.7/dist-packages (from qiskit-ignis==0.6.0->qiskit) (54.2.0)\n",
            "Requirement already satisfied: h5py<=3.1.0 in /usr/local/lib/python3.7/dist-packages (from qiskit-aqua==0.9.1->qiskit) (2.10.0)\n",
            "Requirement already satisfied: pandas<=1.2.3 in /usr/local/lib/python3.7/dist-packages (from qiskit-aqua==0.9.1->qiskit) (1.1.5)\n",
            "Requirement already satisfied: scikit-learn<=0.24.1,>=0.20.0 in /usr/local/lib/python3.7/dist-packages (from qiskit-aqua==0.9.1->qiskit) (0.22.2.post1)\n",
            "Collecting yfinance<=0.1.55\n",
            "  Downloading https://files.pythonhosted.org/packages/7a/e8/b9d7104d3a4bf39924799067592d9e59119fcfc900a425a12e80a3123ec8/yfinance-0.1.55.tar.gz\n",
            "Collecting docplex<=2.20.204; sys_platform != \"darwin\"\n",
            "\u001b[?25l  Downloading https://files.pythonhosted.org/packages/87/99/6f7c219b39fd58c84688ad0713eb932bfcf6be81fc74519e43ea9c915b56/docplex-2.20.204.tar.gz (611kB)\n",
            "\u001b[K     |████████████████████████████████| 614kB 40.7MB/s \n",
            "\u001b[?25hCollecting dlx<=1.0.4\n",
            "  Downloading https://files.pythonhosted.org/packages/54/c0/b8fb5bb727e983b6f5251433ef941b48f38c65bb0bd6ec509e9185bcd406/dlx-1.0.4.tar.gz\n",
            "Requirement already satisfied: fastdtw<=0.3.4 in /usr/local/lib/python3.7/dist-packages (from qiskit-aqua==0.9.1->qiskit) (0.3.4)\n",
            "Collecting quandl<=3.6.0\n",
            "  Downloading https://files.pythonhosted.org/packages/c2/58/9f0e69d836045e3865d263e9ed49f42b23a58526fdabb30f74c430baee3f/Quandl-3.6.0-py2.py3-none-any.whl\n",
            "Requirement already satisfied: six>=1.5 in /usr/local/lib/python3.7/dist-packages (from python-dateutil>=2.8.0->qiskit-terra==0.17.1->qiskit) (1.15.0)\n",
            "Requirement already satisfied: mpmath>=0.19 in /usr/local/lib/python3.7/dist-packages (from sympy>=1.3->qiskit-terra==0.17.1->qiskit) (1.2.1)\n",
            "Collecting cryptography>=1.3\n",
            "\u001b[?25l  Downloading https://files.pythonhosted.org/packages/b2/26/7af637e6a7e87258b963f1731c5982fb31cd507f0d90d91836e446955d02/cryptography-3.4.7-cp36-abi3-manylinux2014_x86_64.whl (3.2MB)\n",
            "\u001b[K     |████████████████████████████████| 3.2MB 36.8MB/s \n",
            "\u001b[?25hCollecting ntlm-auth>=1.0.2\n",
            "  Downloading https://files.pythonhosted.org/packages/ff/84/97c550164b54942b0e908c31ef09d9469f3ba4cd7332a671e2125732f63b/ntlm_auth-1.5.0-py2.py3-none-any.whl\n",
            "Requirement already satisfied: chardet<4,>=3.0.2 in /usr/local/lib/python3.7/dist-packages (from requests>=2.19->qiskit-ibmq-provider==0.12.3->qiskit) (3.0.4)\n",
            "Requirement already satisfied: idna<3,>=2.5 in /usr/local/lib/python3.7/dist-packages (from requests>=2.19->qiskit-ibmq-provider==0.12.3->qiskit) (2.10)\n",
            "Requirement already satisfied: certifi>=2017.4.17 in /usr/local/lib/python3.7/dist-packages (from requests>=2.19->qiskit-ibmq-provider==0.12.3->qiskit) (2020.12.5)\n",
            "Requirement already satisfied: pytz>=2017.2 in /usr/local/lib/python3.7/dist-packages (from pandas<=1.2.3->qiskit-aqua==0.9.1->qiskit) (2018.9)\n",
            "Requirement already satisfied: joblib>=0.11 in /usr/local/lib/python3.7/dist-packages (from scikit-learn<=0.24.1,>=0.20.0->qiskit-aqua==0.9.1->qiskit) (1.0.1)\n",
            "Requirement already satisfied: multitasking>=0.0.7 in /usr/local/lib/python3.7/dist-packages (from yfinance<=0.1.55->qiskit-aqua==0.9.1->qiskit) (0.0.9)\n",
            "Collecting lxml>=4.5.1\n",
            "\u001b[?25l  Downloading https://files.pythonhosted.org/packages/cf/4d/6537313bf58fe22b508f08cf3eb86b29b6f9edf68e00454224539421073b/lxml-4.6.3-cp37-cp37m-manylinux1_x86_64.whl (5.5MB)\n",
            "\u001b[K     |████████████████████████████████| 5.5MB 48.1MB/s \n",
            "\u001b[?25hCollecting inflection>=0.3.1\n",
            "  Downloading https://files.pythonhosted.org/packages/59/91/aa6bde563e0085a02a435aa99b49ef75b0a4b062635e606dab23ce18d720/inflection-0.5.1-py2.py3-none-any.whl\n",
            "Requirement already satisfied: more-itertools in /usr/local/lib/python3.7/dist-packages (from quandl<=3.6.0->qiskit-aqua==0.9.1->qiskit) (8.7.0)\n",
            "Requirement already satisfied: cffi>=1.12 in /usr/local/lib/python3.7/dist-packages (from cryptography>=1.3->requests-ntlm>=1.1.0->qiskit-ibmq-provider==0.12.3->qiskit) (1.14.5)\n",
            "Requirement already satisfied: pycparser in /usr/local/lib/python3.7/dist-packages (from cffi>=1.12->cryptography>=1.3->requests-ntlm>=1.1.0->qiskit-ibmq-provider==0.12.3->qiskit) (2.20)\n",
            "Building wheels for collected packages: qiskit, python-constraint, yfinance, docplex, dlx\n",
            "  Building wheel for qiskit (setup.py) ... \u001b[?25l\u001b[?25hdone\n",
            "  Created wheel for qiskit: filename=qiskit-0.25.2-cp37-none-any.whl size=3066 sha256=5b8d78d7c66395bba679fb1fc693a8d4e8b7b55e9db14bdc45c7557d0f7aa080\n",
            "  Stored in directory: /root/.cache/pip/wheels/47/a6/95/c06fb36fa3f4de8eb325c737eb8164c1805314f9f5fc941e5b\n",
            "  Building wheel for python-constraint (setup.py) ... \u001b[?25l\u001b[?25hdone\n",
            "  Created wheel for python-constraint: filename=python_constraint-1.4.0-py2.py3-none-any.whl size=24079 sha256=a464f20e4b0e404293fe952e1a52f73187cf189cf0829c0d80437274a77bf1dc\n",
            "  Stored in directory: /root/.cache/pip/wheels/34/31/15/7b070b25d0a549d20ce2e9fe6d727471c2c61ef904720fd40c\n",
            "  Building wheel for yfinance (setup.py) ... \u001b[?25l\u001b[?25hdone\n",
            "  Created wheel for yfinance: filename=yfinance-0.1.55-py2.py3-none-any.whl size=22616 sha256=1a8f3226a9525cd10837272b9f25ff54c815685ff15d6001f8dfe04db8357781\n",
            "  Stored in directory: /root/.cache/pip/wheels/04/98/cc/2702a4242d60bdc14f48b4557c427ded1fe92aedf257d4565c\n",
            "  Building wheel for docplex (setup.py) ... \u001b[?25l\u001b[?25hdone\n",
            "  Created wheel for docplex: filename=docplex-2.20.204-cp37-none-any.whl size=675362 sha256=4a17b9b6b2e8edb49a9ec0dd06b0a5ad838b9c698747931d2bcb45b920eaa97d\n",
            "  Stored in directory: /root/.cache/pip/wheels/ae/2c/e2/a099ebb6fda8adeba9c5fc2e25659d195ad2f5c6cc5fb75fd4\n",
            "  Building wheel for dlx (setup.py) ... \u001b[?25l\u001b[?25hdone\n",
            "  Created wheel for dlx: filename=dlx-1.0.4-cp37-none-any.whl size=5712 sha256=6b875d58e3967e8cc2bc452f2308a1ad12cda8ec2649710bf243ba111436732e\n",
            "  Stored in directory: /root/.cache/pip/wheels/bb/ba/15/fdd0deb104df3254912998150ba9245668db06b00af5912d1a\n",
            "Successfully built qiskit python-constraint yfinance docplex dlx\n",
            "Installing collected packages: retworkx, fastjsonschema, ply, python-constraint, qiskit-terra, pybind11, qiskit-aer, websockets, cryptography, ntlm-auth, requests-ntlm, qiskit-ibmq-provider, qiskit-ignis, lxml, yfinance, docplex, dlx, inflection, quandl, qiskit-aqua, qiskit\n",
            "  Found existing installation: lxml 4.2.6\n",
            "    Uninstalling lxml-4.2.6:\n",
            "      Successfully uninstalled lxml-4.2.6\n",
            "Successfully installed cryptography-3.4.7 dlx-1.0.4 docplex-2.20.204 fastjsonschema-2.15.0 inflection-0.5.1 lxml-4.6.3 ntlm-auth-1.5.0 ply-3.11 pybind11-2.6.2 python-constraint-1.4.0 qiskit-0.25.2 qiskit-aer-0.8.1 qiskit-aqua-0.9.1 qiskit-ibmq-provider-0.12.3 qiskit-ignis-0.6.0 qiskit-terra-0.17.1 quandl-3.6.0 requests-ntlm-1.1.0 retworkx-0.8.0 websockets-8.1 yfinance-0.1.55\n",
            "Collecting qiskit_nature\n",
            "\u001b[?25l  Downloading https://files.pythonhosted.org/packages/93/cd/c30e7e79949294321274ca6ad098a2ed4b1fab31dcd459452fe3b8912772/qiskit_nature-0.1.1-py3-none-any.whl (1.4MB)\n",
            "\u001b[K     |████████████████████████████████| 1.5MB 4.2MB/s \n",
            "\u001b[?25hRequirement already satisfied: qiskit-terra>=0.17.0 in /usr/local/lib/python3.7/dist-packages (from qiskit_nature) (0.17.1)\n",
            "Requirement already satisfied: psutil>=5 in /usr/local/lib/python3.7/dist-packages (from qiskit_nature) (5.4.8)\n",
            "Requirement already satisfied: scikit-learn>=0.20.0 in /usr/local/lib/python3.7/dist-packages (from qiskit_nature) (0.22.2.post1)\n",
            "Requirement already satisfied: numpy>=1.17 in /usr/local/lib/python3.7/dist-packages (from qiskit_nature) (1.19.5)\n",
            "Requirement already satisfied: scipy>=1.4 in /usr/local/lib/python3.7/dist-packages (from qiskit_nature) (1.4.1)\n",
            "Requirement already satisfied: h5py in /usr/local/lib/python3.7/dist-packages (from qiskit_nature) (2.10.0)\n",
            "Requirement already satisfied: setuptools>=40.1.0 in /usr/local/lib/python3.7/dist-packages (from qiskit_nature) (54.2.0)\n",
            "Requirement already satisfied: dill>=0.3 in /usr/local/lib/python3.7/dist-packages (from qiskit-terra>=0.17.0->qiskit_nature) (0.3.3)\n",
            "Requirement already satisfied: sympy>=1.3 in /usr/local/lib/python3.7/dist-packages (from qiskit-terra>=0.17.0->qiskit_nature) (1.7.1)\n",
            "Requirement already satisfied: python-dateutil>=2.8.0 in /usr/local/lib/python3.7/dist-packages (from qiskit-terra>=0.17.0->qiskit_nature) (2.8.1)\n",
            "Requirement already satisfied: ply>=3.10 in /usr/local/lib/python3.7/dist-packages (from qiskit-terra>=0.17.0->qiskit_nature) (3.11)\n",
            "Requirement already satisfied: python-constraint>=1.4 in /usr/local/lib/python3.7/dist-packages (from qiskit-terra>=0.17.0->qiskit_nature) (1.4.0)\n",
            "Requirement already satisfied: jsonschema>=2.6 in /usr/local/lib/python3.7/dist-packages (from qiskit-terra>=0.17.0->qiskit_nature) (2.6.0)\n",
            "Requirement already satisfied: retworkx>=0.8.0 in /usr/local/lib/python3.7/dist-packages (from qiskit-terra>=0.17.0->qiskit_nature) (0.8.0)\n",
            "Requirement already satisfied: fastjsonschema>=2.10 in /usr/local/lib/python3.7/dist-packages (from qiskit-terra>=0.17.0->qiskit_nature) (2.15.0)\n",
            "Requirement already satisfied: joblib>=0.11 in /usr/local/lib/python3.7/dist-packages (from scikit-learn>=0.20.0->qiskit_nature) (1.0.1)\n",
            "Requirement already satisfied: six in /usr/local/lib/python3.7/dist-packages (from h5py->qiskit_nature) (1.15.0)\n",
            "Requirement already satisfied: mpmath>=0.19 in /usr/local/lib/python3.7/dist-packages (from sympy>=1.3->qiskit-terra>=0.17.0->qiskit_nature) (1.2.1)\n",
            "Installing collected packages: qiskit-nature\n",
            "Successfully installed qiskit-nature-0.1.1\n",
            "Collecting pyscf\n",
            "\u001b[?25l  Downloading https://files.pythonhosted.org/packages/ef/d6/af4ce5035977cb011e4dbe9979bf254129a36d48cb569b86e57b5a72c5b1/pyscf-1.7.6.post1-cp37-cp37m-manylinux1_x86_64.whl (29.7MB)\n",
            "\u001b[K     |████████████████████████████████| 29.7MB 157kB/s \n",
            "\u001b[?25hRequirement already satisfied: scipy!=1.5.0,!=1.5.1 in /usr/local/lib/python3.7/dist-packages (from pyscf) (1.4.1)\n",
            "Requirement already satisfied: numpy!=1.16,!=1.17,>1.8 in /usr/local/lib/python3.7/dist-packages (from pyscf) (1.19.5)\n",
            "Requirement already satisfied: h5py>2.2 in /usr/local/lib/python3.7/dist-packages (from pyscf) (2.10.0)\n",
            "Requirement already satisfied: six in /usr/local/lib/python3.7/dist-packages (from h5py>2.2->pyscf) (1.15.0)\n",
            "Installing collected packages: pyscf\n",
            "Successfully installed pyscf-1.7.6.post1\n"
          ],
          "name": "stdout"
        }
      ]
    },
    {
      "cell_type": "markdown",
      "metadata": {
        "id": "X-GjtD_1vPfx"
      },
      "source": [
        "## Importing the essentials"
      ]
    },
    {
      "cell_type": "code",
      "metadata": {
        "id": "V4JgwLROv5lJ"
      },
      "source": [
        "# import common packages\n",
        "import numpy as np\n",
        "import pandas as pd\n",
        "import matplotlib.pyplot as plt\n",
        "from functools import partial\n",
        "\n",
        "# qiskit\n",
        "from qiskit.utils import QuantumInstance\n",
        "from qiskit import Aer\n",
        "from qiskit.algorithms.minimum_eigen_solvers import NumPyMinimumEigensolver, VQE\n",
        "from qiskit.algorithms.optimizers import SLSQP\n",
        "from qiskit.circuit.library import ExcitationPreserving\n",
        "from qiskit import BasicAer\n",
        "from qiskit.algorithms import NumPyMinimumEigensolver, VQE\n",
        "from qiskit.algorithms.optimizers import SLSQP\n",
        "\n",
        "# qiskit nature imports\n",
        "from qiskit_nature.problems.second_quantization import ElectronicStructureProblem\n",
        "from qiskit_nature.converters.second_quantization import QubitConverter\n",
        "from qiskit_nature.mappers.second_quantization import JordanWignerMapper\n",
        "from qiskit_nature.algorithms import GroundStateEigensolver\n",
        "from qiskit_nature.drivers import PySCFDriver, UnitsType, Molecule\n",
        "from qiskit_nature.algorithms.pes_samplers import BOPESSampler, Extrapolator\n",
        "\n",
        "import warnings\n",
        "warnings.simplefilter('ignore', np.RankWarning)"
      ],
      "execution_count": 2,
      "outputs": []
    },
    {
      "cell_type": "markdown",
      "metadata": {
        "id": "-od5Mk-HwjGp"
      },
      "source": [
        "### Set up the H2 molecule"
      ]
    },
    {
      "cell_type": "code",
      "metadata": {
        "id": "FSN7XwbcwmfG"
      },
      "source": [
        "stretch1 = partial(Molecule.absolute_stretching, atom_pair=(1, 0))\n",
        "mol = Molecule(geometry=[('H', [0., 0., 0.]),\n",
        "                        ('H', [0., 0., 0.3])],\n",
        "                       degrees_of_freedom=[stretch1],\n",
        "                       )\n",
        "\n",
        "# pass molecule to PSYCF driver\n",
        "driver = PySCFDriver(molecule=mol)"
      ],
      "execution_count": 3,
      "outputs": []
    },
    {
      "cell_type": "code",
      "metadata": {
        "colab": {
          "base_uri": "https://localhost:8080/"
        },
        "id": "2Dcwm2hzwn5O",
        "outputId": "54e959f6-03f0-4b61-b0a0-a1f321d6b38e"
      },
      "source": [
        "print(mol.geometry)"
      ],
      "execution_count": 4,
      "outputs": [
        {
          "output_type": "stream",
          "text": [
            "[('H', [0.0, 0.0, 0.0]), ('H', [0.0, 0.0, 0.3])]\n"
          ],
          "name": "stdout"
        }
      ]
    },
    {
      "cell_type": "markdown",
      "metadata": {
        "id": "CZ8xXl6-wqpN"
      },
      "source": [
        "### Make a perturbation to the molecule along the absolute_stretching dof"
      ]
    },
    {
      "cell_type": "code",
      "metadata": {
        "colab": {
          "base_uri": "https://localhost:8080/"
        },
        "id": "t7MikAIxw_gb",
        "outputId": "d9fcdf8d-9248-4580-b6dd-6e1588b58d4a"
      },
      "source": [
        "mol.perturbations = [0.2]\n",
        "print(mol.geometry)\n",
        "\n",
        "mol.perturbations = [0.6]\n",
        "print(mol.geometry)"
      ],
      "execution_count": 5,
      "outputs": [
        {
          "output_type": "stream",
          "text": [
            "[('H', [0.0, 0.0, 0.0]), ('H', [0.0, 0.0, 0.5])]\n",
            "[('H', [0.0, 0.0, 0.0]), ('H', [0.0, 0.0, 0.8999999999999999])]\n"
          ],
          "name": "stdout"
        }
      ]
    },
    {
      "cell_type": "markdown",
      "metadata": {
        "id": "VoDY0IGJxF7o"
      },
      "source": [
        "## Now the Born-Oppenheimer Potential Energy Surface Sampler\n",
        "### To bootstrap or not to bootstrap, that is the question\n",
        "\n",
        "First use the VQE"
      ]
    },
    {
      "cell_type": "code",
      "metadata": {
        "id": "CV4syakbxPAZ"
      },
      "source": [
        "es_problem = ElectronicStructureProblem(driver)\n",
        "\n",
        "qubit_converter = QubitConverter(JordanWignerMapper())\n",
        "quantum_instance = QuantumInstance(backend=Aer.get_backend('statevector_simulator'))\n",
        "solver = VQE(quantum_instance=quantum_instance)\n",
        "\n",
        "me_gsc = GroundStateEigensolver(qubit_converter, solver)"
      ],
      "execution_count": 6,
      "outputs": []
    },
    {
      "cell_type": "code",
      "metadata": {
        "id": "1VC9Hhx2xBl_"
      },
      "source": [
        "distance1 = partial(Molecule.absolute_distance, atom_pair=(1, 0))\n",
        "mol = Molecule(geometry=[('H', [0., 0., 0.]),\n",
        "                        ('H', [0., 0., 0.3])],\n",
        "                       degrees_of_freedom=[distance1],\n",
        "                       )\n",
        "\n",
        "# pass molecule to PSYCF driver\n",
        "driver = PySCFDriver(molecule=mol)\n",
        "\n",
        "es_problem = ElectronicStructureProblem(driver)\n",
        "\n",
        "\n",
        "# Specify degree of freedom (points of interest)\n",
        "points = np.linspace(0.25, 2, 30)\n",
        "results_full = {} # full dictionary of results for each condition\n",
        "results = {} # dictionary of (point,energy) results for each condition\n",
        "conditions = {False: 'no bootstrapping', True: 'bootstrapping'}\n",
        "\n",
        "\n",
        "for value, bootstrap in conditions.items():\n",
        "    # define instance to sampler\n",
        "    bs = BOPESSampler(\n",
        "        gss=me_gsc\n",
        "        ,bootstrap=value\n",
        "        ,num_bootstrap=None\n",
        "        ,extrapolator=None)\n",
        "    # execute\n",
        "    res = bs.sample(es_problem,points)\n",
        "    results_full[f'{bootstrap}'] =  res.raw_results\n",
        "    results[f'points_{bootstrap}'] = res.points\n",
        "    results[f'energies_{bootstrap}'] = res.energies"
      ],
      "execution_count": 7,
      "outputs": []
    },
    {
      "cell_type": "markdown",
      "metadata": {
        "id": "aHMqkgBrxj4W"
      },
      "source": [
        "Now compare with the Classical solution"
      ]
    },
    {
      "cell_type": "code",
      "metadata": {
        "id": "Aaal4ru7xoph"
      },
      "source": [
        "# define numpy solver\n",
        "solver_numpy = NumPyMinimumEigensolver()\n",
        "me_gsc_numpy = GroundStateEigensolver(qubit_converter, solver_numpy)\n",
        "bs_classical = BOPESSampler(\n",
        "               gss=me_gsc_numpy\n",
        "               ,bootstrap=False\n",
        "               ,num_bootstrap=None\n",
        "               ,extrapolator=None)\n",
        "# execute\n",
        "res_np = bs_classical.sample(es_problem, points)\n",
        "results_full['np'] =  res_np.raw_results\n",
        "results['points_np'] = res_np.points\n",
        "results['energies_np'] = res_np.energies"
      ],
      "execution_count": 8,
      "outputs": []
    },
    {
      "cell_type": "markdown",
      "metadata": {
        "id": "6K50z6rTxtJZ"
      },
      "source": [
        "## Plot"
      ]
    },
    {
      "cell_type": "code",
      "metadata": {
        "colab": {
          "base_uri": "https://localhost:8080/",
          "height": 313
        },
        "id": "41pWul53xukh",
        "outputId": "2cda7b38-9025-427e-f14e-b9645fe106cc"
      },
      "source": [
        "fig = plt.figure()\n",
        "for value, bootstrap in conditions.items():\n",
        "    plt.plot(results[f'points_{bootstrap}'], results[f'energies_{bootstrap}'], label = f'{bootstrap}')\n",
        "plt.plot(results['points_np'], results['energies_np'], label = 'numpy')\n",
        "plt.legend()\n",
        "plt.title('Dissociation profile')\n",
        "plt.xlabel('Interatomic distance')\n",
        "plt.ylabel('Energy')"
      ],
      "execution_count": 9,
      "outputs": [
        {
          "output_type": "execute_result",
          "data": {
            "text/plain": [
              "Text(0, 0.5, 'Energy')"
            ]
          },
          "metadata": {
            "tags": []
          },
          "execution_count": 9
        },
        {
          "output_type": "display_data",
          "data": {
            "image/png": "[encoded data removed]",
            "text/plain": [
              "<Figure size 432x288 with 1 Axes>"
            ]
          },
          "metadata": {
            "tags": [],
            "needs_background": "light"
          }
        }
      ]
    },
    {
      "cell_type": "markdown",
      "metadata": {
        "id": "m7MAMvufx2DT"
      },
      "source": [
        "## Number of evaluations"
      ]
    },
    {
      "cell_type": "code",
      "metadata": {
        "colab": {
          "base_uri": "https://localhost:8080/"
        },
        "id": "xo1D0uo1x5O7",
        "outputId": "547387e4-ed89-4379-a709-729341ce3cb0"
      },
      "source": [
        "for condition, result_full in results_full.items():\n",
        "    print(condition)\n",
        "    print('Total evaluations for ' + condition + ':')\n",
        "    sum = 0\n",
        "    for key in result_full:\n",
        "        if condition is not 'np':\n",
        "            sum += result_full[key].raw_result.cost_function_evals\n",
        "        else:\n",
        "            sum = 0\n",
        "    print(sum)"
      ],
      "execution_count": 10,
      "outputs": [
        {
          "output_type": "stream",
          "text": [
            "no bootstrapping\n",
            "Total evaluations for no bootstrapping:\n",
            "18613\n",
            "bootstrapping\n",
            "Total evaluations for bootstrapping:\n",
            "2350\n",
            "np\n",
            "Total evaluations for np:\n",
            "0\n"
          ],
          "name": "stdout"
        }
      ]
    },
    {
      "cell_type": "markdown",
      "metadata": {
        "id": "iheczKc4yQEI"
      },
      "source": [
        "## Extrapolation"
      ]
    },
    {
      "cell_type": "code",
      "metadata": {
        "id": "6Ha4PEEqyP1W"
      },
      "source": [
        "# define different extrapolators\n",
        "degree = 1\n",
        "extrap_poly = Extrapolator.factory(\"poly\", degree = degree)\n",
        "extrap_diff = Extrapolator.factory(\"diff_model\", degree = degree)\n",
        "extrapolators = {'poly': extrap_poly, 'diff_model': extrap_diff}\n",
        "\n",
        "for key in extrapolators:\n",
        "    extrap_internal = extrapolators[key]\n",
        "    extrap = Extrapolator.factory(\"window\", extrapolator = extrap_internal)\n",
        "    # define extrapolator\n",
        "    # BOPES sampler\n",
        "    bs_extr = BOPESSampler(\n",
        "        gss=me_gsc\n",
        "        ,bootstrap=True\n",
        "        ,num_bootstrap=None\n",
        "        ,extrapolator=extrap)\n",
        "    # execute\n",
        "    res = bs_extr.sample(es_problem, points)\n",
        "\n",
        "    results_full[f'{key}']= res.raw_results\n",
        "    results[f'points_{key}'] = res.points\n",
        "    results[f'energies_{key}'] = res.energies\n"
      ],
      "execution_count": 11,
      "outputs": []
    },
    {
      "cell_type": "markdown",
      "metadata": {
        "id": "wuhfqRmbyjHm"
      },
      "source": [
        "### Plot"
      ]
    },
    {
      "cell_type": "code",
      "metadata": {
        "colab": {
          "base_uri": "https://localhost:8080/",
          "height": 348
        },
        "id": "hWSedACryhFA",
        "outputId": "f3b02941-31be-40be-e9b4-45c22c5c9734"
      },
      "source": [
        "fig = plt.figure()\n",
        "for value, bootstrap in conditions.items():\n",
        "    plt.plot(results[f'points_{bootstrap}'], results[f'energies_{bootstrap}'], label = f'{bootstrap}')\n",
        "plt.plot(results['points_np'], results['energies_np'], label = 'numpy')\n",
        "for condition in extrapolators.keys():\n",
        "    print(condition)\n",
        "    plt.plot(results[f'points_{condition}'], results[f'energies_{condition}'], label = condition)\n",
        "plt.legend()\n",
        "plt.title('Dissociation profile')\n",
        "plt.xlabel('Interatomic distance')\n",
        "plt.ylabel('Energy')"
      ],
      "execution_count": 12,
      "outputs": [
        {
          "output_type": "stream",
          "text": [
            "poly\n",
            "diff_model\n"
          ],
          "name": "stdout"
        },
        {
          "output_type": "execute_result",
          "data": {
            "text/plain": [
              "Text(0, 0.5, 'Energy')"
            ]
          },
          "metadata": {
            "tags": []
          },
          "execution_count": 12
        },
        {
          "output_type": "display_data",
          "data": {
            "image/png": "[encoded data removed]",
            "text/plain": [
              "<Figure size 432x288 with 1 Axes>"
            ]
          },
          "metadata": {
            "tags": [],
            "needs_background": "light"
          }
        }
      ]
    },
    {
      "cell_type": "markdown",
      "metadata": {
        "id": "kDg-QKcoyk6t"
      },
      "source": [
        "### Number of evaluations"
      ]
    },
    {
      "cell_type": "code",
      "metadata": {
        "colab": {
          "base_uri": "https://localhost:8080/"
        },
        "id": "gjd5DejEyvvD",
        "outputId": "283cf6e5-6366-42f9-eb64-4da08aea7a23"
      },
      "source": [
        "for condition, result_full in results_full.items():\n",
        "    print(condition)\n",
        "    print('Total evaluations for ' + condition + ':')\n",
        "    sum = 0\n",
        "    for key in results_full[condition].keys():\n",
        "        if condition is not 'np':\n",
        "                sum += result_full[key].raw_result.cost_function_evals\n",
        "        else:\n",
        "                sum = 0\n",
        "    print(sum)"
      ],
      "execution_count": 13,
      "outputs": [
        {
          "output_type": "stream",
          "text": [
            "no bootstrapping\n",
            "Total evaluations for no bootstrapping:\n",
            "18613\n",
            "bootstrapping\n",
            "Total evaluations for bootstrapping:\n",
            "2350\n",
            "np\n",
            "Total evaluations for np:\n",
            "0\n",
            "poly\n",
            "Total evaluations for poly:\n",
            "1003\n",
            "diff_model\n",
            "Total evaluations for diff_model:\n",
            "1555\n"
          ],
          "name": "stdout"
        }
      ]
    }
  ]
}